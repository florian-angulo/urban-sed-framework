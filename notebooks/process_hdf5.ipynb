{
 "cells": [
  {
   "cell_type": "code",
   "execution_count": 1,
   "id": "9471bfd3",
   "metadata": {},
   "outputs": [],
   "source": [
    "import yaml\n",
    "import h5py\n",
    "import os\n",
    "from loguru import logger as lg"
   ]
  },
  {
   "cell_type": "markdown",
   "id": "f5cf75da",
   "metadata": {},
   "source": [
    "### Open conf file"
   ]
  },
  {
   "cell_type": "code",
   "execution_count": 2,
   "id": "fa291aba",
   "metadata": {},
   "outputs": [],
   "source": [
    "with open(\"../config/multi_conf/sed5.yaml\", \"r\") as f:\n",
    "    conf = yaml.safe_load(f)"
   ]
  },
  {
   "cell_type": "code",
   "execution_count": 4,
   "id": "2b81da4e",
   "metadata": {},
   "outputs": [
    {
     "data": {
      "text/plain": [
       "{'audio_max_len': 10,\n",
       " 'fs': 32000,\n",
       " 'net_subsample': 4,\n",
       " 'root_path': '/gpfsscratch/rech/gpz/ufg11lw/data_urban/',\n",
       " 'hdf5_train': 'train.h5',\n",
       " 'hdf5_val': 'val.h5',\n",
       " 'hdf5_test': 'test.h5',\n",
       " 'sonyc_csv_train': 'metadata/train/SONYC_train.csv',\n",
       " 'sonyc_csv_val': 'metadata/val/SONYC_val.csv',\n",
       " 'sonyc_csv_test': 'metadata/test/SONYC_test.csv',\n",
       " 'singa-pura_csv_train': 'metadata/train/SINGA-PURA_train.csv',\n",
       " 'singa-pura_csv_val': 'metadata/val/SINGA-PURA_val.csv',\n",
       " 'singa-pura_csv_test': 'metadata/test/SINGA-PURA_test.csv',\n",
       " 'singa-pura_csv_unlabelled': 'metadata/train/SINGA-PURA_unlabelled.csv',\n",
       " 'taxonomy_path': '/gpfswork/rech/gpz/ufg11lw/Detection-Urban/config/taxonomy_SONYC.yaml'}"
      ]
     },
     "execution_count": 4,
     "metadata": {},
     "output_type": "execute_result"
    }
   ],
   "source": [
    "conf[\"data\"]"
   ]
  },
  {
   "cell_type": "code",
   "execution_count": 5,
   "id": "03064eb2",
   "metadata": {},
   "outputs": [],
   "source": [
    "def print_hf(hf_path):\n",
    "    hf = h5py.File(hf_path)\n",
    "\n",
    "    def recursive_print(hf, tab):\n",
    "        for name in hf:\n",
    "            if isinstance(hf[name], h5py.Group):\n",
    "                print(\"\".join([\"\\t\"] * tab) + name)\n",
    "                recursive_print(hf[name], tab + 1)\n",
    "            else:\n",
    "                print(\n",
    "                    \"\".join([\"\\t\"] * tab) + str(hf[name]).replace(\"<HDF5 dataset\", \"\")\n",
    "                )\n",
    "\n",
    "    recursive_print(hf, 0)"
   ]
  },
  {
   "cell_type": "code",
   "execution_count": 9,
   "id": "d256f49d",
   "metadata": {},
   "outputs": [
    {
     "name": "stdout",
     "output_type": "stream",
     "text": [
      "SINGA-PURA\n",
      "\t \"audio_32k\": shape (736, 320000), type \"<f4\">\n",
      "\t \"filenames\": shape (736,), type \"|O\">\n",
      "\tgroundtruth\n",
      "\t\t \"taxonomy_coarse_SINGA-PURA\": shape (736, 15, 156), type \"<f8\">\n",
      "\t\t \"taxonomy_coarse_SONYC\": shape (736, 8, 156), type \"<f8\">\n",
      "\t\t \"taxonomy_fine_SINGA-PURA\": shape (736, 50, 156), type \"<f8\">\n",
      "\t\t \"taxonomy_fine_SONYC\": shape (736, 29, 156), type \"<f8\">\n",
      "\t \"open_l3_512\": shape (736, 96, 512), type \"<f4\">\n",
      "\t \"passt_2levelmel\": shape (736, 201, 3358), type \"<f4\">\n",
      "SONYC\n",
      "\t \"audio_32k\": shape (538, 320000), type \"<f4\">\n",
      "\t \"filenames\": shape (538,), type \"|O\">\n",
      "\tgroundtruth\n",
      "\t\t \"taxonomy_coarse_SINGA-PURA\": shape (538, 15), type \"<f8\">\n",
      "\t\t \"taxonomy_coarse_SONYC\": shape (538, 8), type \"<f8\">\n",
      "\t\t \"taxonomy_fine_SINGA-PURA\": shape (538, 50), type \"<f8\">\n",
      "\t\t \"taxonomy_fine_SONYC\": shape (538, 29), type \"<f8\">\n",
      "\tgroundtruth_with_proximity\n",
      "\t\t \"taxonomy_coarse_SINGA-PURA\": shape (538, 15), type \"<f8\">\n",
      "\t\t \"taxonomy_coarse_SONYC\": shape (538, 8), type \"<f8\">\n",
      "\t\t \"taxonomy_fine_SINGA-PURA\": shape (538, 50), type \"<f8\">\n",
      "\t\t \"taxonomy_fine_SONYC\": shape (538, 29), type \"<f8\">\n",
      "\t \"open_l3_512\": shape (538, 96, 512), type \"<f4\">\n",
      "\t \"passt_2levelmel\": shape (538, 201, 3358), type \"<f4\">\n"
     ]
    }
   ],
   "source": [
    "print_hf(\"../../scratch/data_urban/val.h5\")"
   ]
  },
  {
   "cell_type": "code",
   "execution_count": 9,
   "id": "77e0264d",
   "metadata": {},
   "outputs": [
    {
     "name": "stdout",
     "output_type": "stream",
     "text": [
      "\u001b[1mSINGA-PURA\u001b[0m\n",
      "\u001b[31m\t \"audio_32k\": shape (1376, 320000), type \"<f4\">\u001b[0m\n",
      "\u001b[31m\t \"filenames\": shape (1376,), type \"|O\">\u001b[0m\n",
      "\u001b[1m\tgroundtruth\u001b[0m\n",
      "\u001b[31m\t\t \"taxonomy_coarse_SINGA-PURA\": shape (1376, 15, 156), type \"<f8\">\u001b[0m\n",
      "\u001b[31m\t\t \"taxonomy_coarse_SONYC\": shape (1376, 8, 156), type \"<f8\">\u001b[0m\n",
      "\u001b[31m\t\t \"taxonomy_fine_SINGA-PURA\": shape (1376, 50, 156), type \"<f8\">\u001b[0m\n",
      "\u001b[31m\t\t \"taxonomy_fine_SONYC\": shape (1376, 29, 156), type \"<f8\">\u001b[0m\n",
      "\u001b[31m\t \"open_l3_512\": shape (1376, 96, 512), type \"<f4\">\u001b[0m\n",
      "\u001b[31m\t \"passt_2levelmel\": shape (1376, 201, 3358), type \"<f4\">\u001b[0m\n",
      "\u001b[1mSONYC\u001b[0m\n",
      "\u001b[31m\t \"audio_32k\": shape (664, 320000), type \"<f4\">\u001b[0m\n",
      "\u001b[31m\t \"filenames\": shape (664,), type \"|O\">\u001b[0m\n",
      "\u001b[1m\tgroundtruth\u001b[0m\n",
      "\u001b[31m\t\t \"taxonomy_coarse_SINGA-PURA\": shape (664, 15), type \"<f8\">\u001b[0m\n",
      "\u001b[31m\t\t \"taxonomy_coarse_SONYC\": shape (664, 8), type \"<f8\">\u001b[0m\n",
      "\u001b[31m\t\t \"taxonomy_fine_SINGA-PURA\": shape (664, 50), type \"<f8\">\u001b[0m\n",
      "\u001b[31m\t\t \"taxonomy_fine_SONYC\": shape (664, 29), type \"<f8\">\u001b[0m\n",
      "\u001b[1m\tgroundtruth_with_proximity\u001b[0m\n",
      "\u001b[31m\t\t \"taxonomy_coarse_SINGA-PURA\": shape (664, 15), type \"<f8\">\u001b[0m\n",
      "\u001b[31m\t\t \"taxonomy_coarse_SONYC\": shape (664, 8), type \"<f8\">\u001b[0m\n",
      "\u001b[31m\t\t \"taxonomy_fine_SINGA-PURA\": shape (664, 50), type \"<f8\">\u001b[0m\n",
      "\u001b[31m\t\t \"taxonomy_fine_SONYC\": shape (664, 29), type \"<f8\">\u001b[0m\n",
      "\u001b[31m\t \"open_l3_512\": shape (664, 96, 512), type \"<f4\">\u001b[0m\n",
      "\u001b[31m\t \"passt_2levelmel\": shape (664, 201, 3358), type \"<f4\">\u001b[0m\n"
     ]
    }
   ],
   "source": [
    "print_hf(os.path.join(conf[\"data\"][\"root_path\"], \"test.h5\"))"
   ]
  },
  {
   "cell_type": "code",
   "execution_count": 22,
   "id": "91a7ce00",
   "metadata": {},
   "outputs": [],
   "source": [
    "@lg.catch\n",
    "def clone_hdf5(hdf5_file_path, new_hdf5_file_path, ignore_dataset_names=[]):\n",
    "    hdf5_file = h5py.File(hdf5_file_path, \"r\")\n",
    "    new_hdf5_file = h5py.File(new_hdf5_file_path, \"w-\")\n",
    "\n",
    "    def recursive_clone(src, tgt, ignore_dataset_names, tab=0):\n",
    "        for name in src:\n",
    "            if isinstance(src[name], h5py.Group):\n",
    "                print(colored(\"\".join([\"\\t\"] * tab) + name, attrs=[\"bold\"]))\n",
    "                tgt.create_group(name)\n",
    "                recursive_clone(src[name], tgt[name], ignore_dataset_names, tab + 1)\n",
    "            else:\n",
    "                print(\n",
    "                    colored(\n",
    "                        \"\".join([\"\\t\"] * tab)\n",
    "                        + str(src[name]).replace(\"<HDF5 dataset\", \"\"),\n",
    "                        \"red\",\n",
    "                    )\n",
    "                )\n",
    "                if name not in ignore_dataset_names:\n",
    "                    src.copy(src[name], tgt)\n",
    "\n",
    "    recursive_clone(hdf5_file, new_hdf5_file, ignore_dataset_names)\n",
    "\n",
    "    hdf5_file.close()\n",
    "    new_hdf5_file.close()"
   ]
  },
  {
   "cell_type": "code",
   "execution_count": 23,
   "id": "5307064d",
   "metadata": {},
   "outputs": [],
   "source": [
    "root_path = conf[\"data\"][\"root_path\"]\n",
    "cloned_path = os.path.join(root_path, \"cloned\")\n",
    "to_clone = \"test.h5\""
   ]
  },
  {
   "cell_type": "code",
   "execution_count": 26,
   "id": "5fd11887",
   "metadata": {},
   "outputs": [
    {
     "name": "stdout",
     "output_type": "stream",
     "text": [
      "\u001b[1mSINGA-PURA\u001b[0m\n",
      "\u001b[31m\t \"audio_32k\": shape (1376, 320000), type \"<f4\">\u001b[0m\n",
      "\u001b[31m\t \"filenames\": shape (1376,), type \"|O\">\u001b[0m\n",
      "\u001b[1m\tgroundtruth\u001b[0m\n",
      "\u001b[31m\t\t \"taxonomy_coarse_SINGA-PURA\": shape (1376, 15, 156), type \"<f8\">\u001b[0m\n",
      "\u001b[31m\t\t \"taxonomy_coarse_SONYC\": shape (1376, 8, 156), type \"<f8\">\u001b[0m\n",
      "\u001b[31m\t\t \"taxonomy_fine_SINGA-PURA\": shape (1376, 50, 156), type \"<f8\">\u001b[0m\n",
      "\u001b[31m\t\t \"taxonomy_fine_SONYC\": shape (1376, 29, 156), type \"<f8\">\u001b[0m\n",
      "\u001b[31m\t \"open_l3_512\": shape (1376, 96, 512), type \"<f4\">\u001b[0m\n",
      "\u001b[31m\t \"passt_2levelmel\": shape (1376, 201, 3358), type \"<f4\">\u001b[0m\n",
      "\u001b[1mSONYC\u001b[0m\n",
      "\u001b[31m\t \"audio_32k\": shape (664, 320000), type \"<f4\">\u001b[0m\n",
      "\u001b[31m\t \"filenames\": shape (664,), type \"|O\">\u001b[0m\n",
      "\u001b[1m\tgroundtruth\u001b[0m\n",
      "\u001b[31m\t\t \"taxonomy_coarse_SINGA-PURA\": shape (664, 15), type \"<f8\">\u001b[0m\n",
      "\u001b[31m\t\t \"taxonomy_coarse_SONYC\": shape (664, 8), type \"<f8\">\u001b[0m\n",
      "\u001b[31m\t\t \"taxonomy_fine_SINGA-PURA\": shape (664, 50), type \"<f8\">\u001b[0m\n",
      "\u001b[31m\t\t \"taxonomy_fine_SONYC\": shape (664, 29), type \"<f8\">\u001b[0m\n",
      "\u001b[1m\tgroundtruth_with_proximity\u001b[0m\n",
      "\u001b[31m\t\t \"taxonomy_coarse_SINGA-PURA\": shape (664, 15), type \"<f8\">\u001b[0m\n",
      "\u001b[31m\t\t \"taxonomy_coarse_SONYC\": shape (664, 8), type \"<f8\">\u001b[0m\n",
      "\u001b[31m\t\t \"taxonomy_fine_SINGA-PURA\": shape (664, 50), type \"<f8\">\u001b[0m\n",
      "\u001b[31m\t\t \"taxonomy_fine_SONYC\": shape (664, 29), type \"<f8\">\u001b[0m\n",
      "\u001b[31m\t \"open_l3_512\": shape (664, 96, 512), type \"<f4\">\u001b[0m\n",
      "\u001b[31m\t \"passt_2levelmel\": shape (664, 201, 3358), type \"<f4\">\u001b[0m\n"
     ]
    }
   ],
   "source": [
    "ignore_dataset_names = [\"open_l3_6144\", \"open_l3_512\", \"audio_32k\", \"passt_2levelmel\"]\n",
    "clone_hdf5(\n",
    "    os.path.join(root_path, to_clone),\n",
    "    os.path.join(cloned_path, to_clone),\n",
    "    ignore_dataset_names,\n",
    ")"
   ]
  },
  {
   "cell_type": "code",
   "execution_count": 25,
   "id": "632a9509",
   "metadata": {},
   "outputs": [
    {
     "ename": "KeyboardInterrupt",
     "evalue": "",
     "output_type": "error",
     "traceback": [
      "\u001b[0;31m---------------------------------------------------------------------------\u001b[0m",
      "\u001b[0;31mKeyboardInterrupt\u001b[0m                         Traceback (most recent call last)",
      "\u001b[0;32m/tmp/ipykernel_790260/2988682758.py\u001b[0m in \u001b[0;36m<module>\u001b[0;34m\u001b[0m\n\u001b[0;32m----> 1\u001b[0;31m \u001b[0;32mimport\u001b[0m \u001b[0mopenl3\u001b[0m\u001b[0;34m\u001b[0m\u001b[0;34m\u001b[0m\u001b[0m\n\u001b[0m\u001b[1;32m      2\u001b[0m \u001b[0;32mimport\u001b[0m \u001b[0mnumpy\u001b[0m \u001b[0;32mas\u001b[0m \u001b[0mnp\u001b[0m\u001b[0;34m\u001b[0m\u001b[0;34m\u001b[0m\u001b[0m\n\u001b[1;32m      3\u001b[0m \u001b[0;32mfrom\u001b[0m \u001b[0mtqdm\u001b[0m \u001b[0;32mimport\u001b[0m \u001b[0mtqdm\u001b[0m\u001b[0;34m\u001b[0m\u001b[0;34m\u001b[0m\u001b[0m\n\u001b[1;32m      4\u001b[0m \u001b[0;34m\u001b[0m\u001b[0m\n\u001b[1;32m      5\u001b[0m \u001b[0;32mdef\u001b[0m \u001b[0mcompute_l3_embeddings\u001b[0m\u001b[0;34m(\u001b[0m\u001b[0mhf_path\u001b[0m\u001b[0;34m)\u001b[0m\u001b[0;34m:\u001b[0m\u001b[0;34m\u001b[0m\u001b[0;34m\u001b[0m\u001b[0m\n",
      "\u001b[0;32m~/.local/lib/python3.7/site-packages/openl3/__init__.py\u001b[0m in \u001b[0;36m<module>\u001b[0;34m\u001b[0m\n\u001b[1;32m      1\u001b[0m \u001b[0;32mfrom\u001b[0m \u001b[0;34m.\u001b[0m\u001b[0mversion\u001b[0m \u001b[0;32mimport\u001b[0m \u001b[0mversion\u001b[0m \u001b[0;32mas\u001b[0m \u001b[0m__version__\u001b[0m\u001b[0;34m\u001b[0m\u001b[0;34m\u001b[0m\u001b[0m\n\u001b[1;32m      2\u001b[0m \u001b[0;32mfrom\u001b[0m \u001b[0;34m.\u001b[0m\u001b[0mopenl3_exceptions\u001b[0m \u001b[0;32mimport\u001b[0m \u001b[0mOpenL3Error\u001b[0m\u001b[0;34m\u001b[0m\u001b[0;34m\u001b[0m\u001b[0m\n\u001b[0;32m----> 3\u001b[0;31m from .core import (\n\u001b[0m\u001b[1;32m      4\u001b[0m     \u001b[0mget_audio_embedding\u001b[0m\u001b[0;34m,\u001b[0m \u001b[0mget_image_embedding\u001b[0m\u001b[0;34m,\u001b[0m \u001b[0mget_output_path\u001b[0m\u001b[0;34m,\u001b[0m\u001b[0;34m\u001b[0m\u001b[0;34m\u001b[0m\u001b[0m\n\u001b[1;32m      5\u001b[0m     process_audio_file, process_image_file, process_video_file, preprocess_audio)\n",
      "\u001b[0;32m~/.local/lib/python3.7/site-packages/openl3/core.py\u001b[0m in \u001b[0;36m<module>\u001b[0;34m\u001b[0m\n\u001b[1;32m      1\u001b[0m \u001b[0;32mimport\u001b[0m \u001b[0mos\u001b[0m\u001b[0;34m\u001b[0m\u001b[0;34m\u001b[0m\u001b[0m\n\u001b[0;32m----> 2\u001b[0;31m \u001b[0;32mimport\u001b[0m \u001b[0mtensorflow\u001b[0m \u001b[0;32mas\u001b[0m \u001b[0mtf\u001b[0m\u001b[0;34m\u001b[0m\u001b[0;34m\u001b[0m\u001b[0m\n\u001b[0m\u001b[1;32m      3\u001b[0m \u001b[0;32mimport\u001b[0m \u001b[0mresampy\u001b[0m\u001b[0;34m\u001b[0m\u001b[0;34m\u001b[0m\u001b[0m\n\u001b[1;32m      4\u001b[0m \u001b[0;32mimport\u001b[0m \u001b[0mtraceback\u001b[0m\u001b[0;34m\u001b[0m\u001b[0;34m\u001b[0m\u001b[0m\n\u001b[1;32m      5\u001b[0m \u001b[0;32mimport\u001b[0m \u001b[0msoundfile\u001b[0m \u001b[0;32mas\u001b[0m \u001b[0msf\u001b[0m\u001b[0;34m\u001b[0m\u001b[0;34m\u001b[0m\u001b[0m\n",
      "\u001b[0;32m/gpfslocalsup/pub/anaconda-py3/2021.05/envs/tensorflow-gpu-2.6.0/lib/python3.7/site-packages/tensorflow/__init__.py\u001b[0m in \u001b[0;36m<module>\u001b[0;34m\u001b[0m\n\u001b[1;32m     53\u001b[0m \u001b[0;32mfrom\u001b[0m \u001b[0;34m.\u001b[0m\u001b[0m_api\u001b[0m\u001b[0;34m.\u001b[0m\u001b[0mv2\u001b[0m \u001b[0;32mimport\u001b[0m \u001b[0mautograph\u001b[0m\u001b[0;34m\u001b[0m\u001b[0;34m\u001b[0m\u001b[0m\n\u001b[1;32m     54\u001b[0m \u001b[0;32mfrom\u001b[0m \u001b[0;34m.\u001b[0m\u001b[0m_api\u001b[0m\u001b[0;34m.\u001b[0m\u001b[0mv2\u001b[0m \u001b[0;32mimport\u001b[0m \u001b[0mbitwise\u001b[0m\u001b[0;34m\u001b[0m\u001b[0;34m\u001b[0m\u001b[0m\n\u001b[0;32m---> 55\u001b[0;31m \u001b[0;32mfrom\u001b[0m \u001b[0;34m.\u001b[0m\u001b[0m_api\u001b[0m\u001b[0;34m.\u001b[0m\u001b[0mv2\u001b[0m \u001b[0;32mimport\u001b[0m \u001b[0mcompat\u001b[0m\u001b[0;34m\u001b[0m\u001b[0;34m\u001b[0m\u001b[0m\n\u001b[0m\u001b[1;32m     56\u001b[0m \u001b[0;32mfrom\u001b[0m \u001b[0;34m.\u001b[0m\u001b[0m_api\u001b[0m\u001b[0;34m.\u001b[0m\u001b[0mv2\u001b[0m \u001b[0;32mimport\u001b[0m \u001b[0mconfig\u001b[0m\u001b[0;34m\u001b[0m\u001b[0;34m\u001b[0m\u001b[0m\n\u001b[1;32m     57\u001b[0m \u001b[0;32mfrom\u001b[0m \u001b[0;34m.\u001b[0m\u001b[0m_api\u001b[0m\u001b[0;34m.\u001b[0m\u001b[0mv2\u001b[0m \u001b[0;32mimport\u001b[0m \u001b[0mdata\u001b[0m\u001b[0;34m\u001b[0m\u001b[0;34m\u001b[0m\u001b[0m\n",
      "\u001b[0;32m/gpfslocalsup/pub/anaconda-py3/2021.05/envs/tensorflow-gpu-2.6.0/lib/python3.7/site-packages/tensorflow/_api/v2/compat/__init__.py\u001b[0m in \u001b[0;36m<module>\u001b[0;34m\u001b[0m\n\u001b[1;32m     37\u001b[0m \u001b[0;32mimport\u001b[0m \u001b[0msys\u001b[0m \u001b[0;32mas\u001b[0m \u001b[0m_sys\u001b[0m\u001b[0;34m\u001b[0m\u001b[0;34m\u001b[0m\u001b[0m\n\u001b[1;32m     38\u001b[0m \u001b[0;34m\u001b[0m\u001b[0m\n\u001b[0;32m---> 39\u001b[0;31m \u001b[0;32mfrom\u001b[0m \u001b[0;34m.\u001b[0m \u001b[0;32mimport\u001b[0m \u001b[0mv1\u001b[0m\u001b[0;34m\u001b[0m\u001b[0;34m\u001b[0m\u001b[0m\n\u001b[0m\u001b[1;32m     40\u001b[0m \u001b[0;32mfrom\u001b[0m \u001b[0;34m.\u001b[0m \u001b[0;32mimport\u001b[0m \u001b[0mv2\u001b[0m\u001b[0;34m\u001b[0m\u001b[0;34m\u001b[0m\u001b[0m\n\u001b[1;32m     41\u001b[0m \u001b[0;32mfrom\u001b[0m \u001b[0mtensorflow\u001b[0m\u001b[0;34m.\u001b[0m\u001b[0mpython\u001b[0m\u001b[0;34m.\u001b[0m\u001b[0mcompat\u001b[0m\u001b[0;34m.\u001b[0m\u001b[0mcompat\u001b[0m \u001b[0;32mimport\u001b[0m \u001b[0mforward_compatibility_horizon\u001b[0m\u001b[0;34m\u001b[0m\u001b[0;34m\u001b[0m\u001b[0m\n",
      "\u001b[0;32m/gpfslocalsup/pub/anaconda-py3/2021.05/envs/tensorflow-gpu-2.6.0/lib/python3.7/site-packages/tensorflow/_api/v2/compat/v1/__init__.py\u001b[0m in \u001b[0;36m<module>\u001b[0;34m\u001b[0m\n\u001b[1;32m     32\u001b[0m \u001b[0;32mfrom\u001b[0m \u001b[0;34m.\u001b[0m \u001b[0;32mimport\u001b[0m \u001b[0mautograph\u001b[0m\u001b[0;34m\u001b[0m\u001b[0;34m\u001b[0m\u001b[0m\n\u001b[1;32m     33\u001b[0m \u001b[0;32mfrom\u001b[0m \u001b[0;34m.\u001b[0m \u001b[0;32mimport\u001b[0m \u001b[0mbitwise\u001b[0m\u001b[0;34m\u001b[0m\u001b[0;34m\u001b[0m\u001b[0m\n\u001b[0;32m---> 34\u001b[0;31m \u001b[0;32mfrom\u001b[0m \u001b[0;34m.\u001b[0m \u001b[0;32mimport\u001b[0m \u001b[0mcompat\u001b[0m\u001b[0;34m\u001b[0m\u001b[0;34m\u001b[0m\u001b[0m\n\u001b[0m\u001b[1;32m     35\u001b[0m \u001b[0;32mfrom\u001b[0m \u001b[0;34m.\u001b[0m \u001b[0;32mimport\u001b[0m \u001b[0mconfig\u001b[0m\u001b[0;34m\u001b[0m\u001b[0;34m\u001b[0m\u001b[0m\n\u001b[1;32m     36\u001b[0m \u001b[0;32mfrom\u001b[0m \u001b[0;34m.\u001b[0m \u001b[0;32mimport\u001b[0m \u001b[0mdata\u001b[0m\u001b[0;34m\u001b[0m\u001b[0;34m\u001b[0m\u001b[0m\n",
      "\u001b[0;32m/gpfslocalsup/pub/anaconda-py3/2021.05/envs/tensorflow-gpu-2.6.0/lib/python3.7/site-packages/tensorflow/_api/v2/compat/v1/compat/__init__.py\u001b[0m in \u001b[0;36m<module>\u001b[0;34m\u001b[0m\n\u001b[1;32m     38\u001b[0m \u001b[0;34m\u001b[0m\u001b[0m\n\u001b[1;32m     39\u001b[0m \u001b[0;32mfrom\u001b[0m \u001b[0;34m.\u001b[0m \u001b[0;32mimport\u001b[0m \u001b[0mv1\u001b[0m\u001b[0;34m\u001b[0m\u001b[0;34m\u001b[0m\u001b[0m\n\u001b[0;32m---> 40\u001b[0;31m \u001b[0;32mfrom\u001b[0m \u001b[0;34m.\u001b[0m \u001b[0;32mimport\u001b[0m \u001b[0mv2\u001b[0m\u001b[0;34m\u001b[0m\u001b[0;34m\u001b[0m\u001b[0m\n\u001b[0m\u001b[1;32m     41\u001b[0m \u001b[0;32mfrom\u001b[0m \u001b[0mtensorflow\u001b[0m\u001b[0;34m.\u001b[0m\u001b[0mpython\u001b[0m\u001b[0;34m.\u001b[0m\u001b[0mcompat\u001b[0m\u001b[0;34m.\u001b[0m\u001b[0mcompat\u001b[0m \u001b[0;32mimport\u001b[0m \u001b[0mforward_compatibility_horizon\u001b[0m\u001b[0;34m\u001b[0m\u001b[0;34m\u001b[0m\u001b[0m\n\u001b[1;32m     42\u001b[0m \u001b[0;32mfrom\u001b[0m \u001b[0mtensorflow\u001b[0m\u001b[0;34m.\u001b[0m\u001b[0mpython\u001b[0m\u001b[0;34m.\u001b[0m\u001b[0mcompat\u001b[0m\u001b[0;34m.\u001b[0m\u001b[0mcompat\u001b[0m \u001b[0;32mimport\u001b[0m \u001b[0mforward_compatible\u001b[0m\u001b[0;34m\u001b[0m\u001b[0;34m\u001b[0m\u001b[0m\n",
      "\u001b[0;32m/gpfslocalsup/pub/anaconda-py3/2021.05/envs/tensorflow-gpu-2.6.0/lib/python3.7/site-packages/tensorflow/_api/v2/compat/v1/compat/v2/__init__.py\u001b[0m in \u001b[0;36m<module>\u001b[0;34m\u001b[0m\n\u001b[1;32m     30\u001b[0m \u001b[0;34m\u001b[0m\u001b[0m\n\u001b[1;32m     31\u001b[0m \u001b[0;32mfrom\u001b[0m \u001b[0;34m.\u001b[0m \u001b[0;32mimport\u001b[0m \u001b[0mcompat\u001b[0m\u001b[0;34m\u001b[0m\u001b[0;34m\u001b[0m\u001b[0m\n\u001b[0;32m---> 32\u001b[0;31m \u001b[0;32mfrom\u001b[0m \u001b[0mtensorflow\u001b[0m\u001b[0;34m.\u001b[0m\u001b[0m_api\u001b[0m\u001b[0;34m.\u001b[0m\u001b[0mv2\u001b[0m\u001b[0;34m.\u001b[0m\u001b[0mcompat\u001b[0m\u001b[0;34m.\u001b[0m\u001b[0mv2\u001b[0m \u001b[0;32mimport\u001b[0m \u001b[0m__internal__\u001b[0m\u001b[0;34m\u001b[0m\u001b[0;34m\u001b[0m\u001b[0m\n\u001b[0m\u001b[1;32m     33\u001b[0m \u001b[0;32mfrom\u001b[0m \u001b[0mtensorflow\u001b[0m\u001b[0;34m.\u001b[0m\u001b[0m_api\u001b[0m\u001b[0;34m.\u001b[0m\u001b[0mv2\u001b[0m\u001b[0;34m.\u001b[0m\u001b[0mcompat\u001b[0m\u001b[0;34m.\u001b[0m\u001b[0mv2\u001b[0m \u001b[0;32mimport\u001b[0m \u001b[0m__operators__\u001b[0m\u001b[0;34m\u001b[0m\u001b[0;34m\u001b[0m\u001b[0m\n\u001b[1;32m     34\u001b[0m \u001b[0;32mfrom\u001b[0m \u001b[0mtensorflow\u001b[0m\u001b[0;34m.\u001b[0m\u001b[0m_api\u001b[0m\u001b[0;34m.\u001b[0m\u001b[0mv2\u001b[0m\u001b[0;34m.\u001b[0m\u001b[0mcompat\u001b[0m\u001b[0;34m.\u001b[0m\u001b[0mv2\u001b[0m \u001b[0;32mimport\u001b[0m \u001b[0maudio\u001b[0m\u001b[0;34m\u001b[0m\u001b[0;34m\u001b[0m\u001b[0m\n",
      "\u001b[0;32m/gpfslocalsup/pub/anaconda-py3/2021.05/envs/tensorflow-gpu-2.6.0/lib/python3.7/site-packages/tensorflow/_api/v2/compat/v2/__init__.py\u001b[0m in \u001b[0;36m<module>\u001b[0;34m\u001b[0m\n\u001b[1;32m     35\u001b[0m \u001b[0;32mfrom\u001b[0m \u001b[0;34m.\u001b[0m \u001b[0;32mimport\u001b[0m \u001b[0mautograph\u001b[0m\u001b[0;34m\u001b[0m\u001b[0;34m\u001b[0m\u001b[0m\n\u001b[1;32m     36\u001b[0m \u001b[0;32mfrom\u001b[0m \u001b[0;34m.\u001b[0m \u001b[0;32mimport\u001b[0m \u001b[0mbitwise\u001b[0m\u001b[0;34m\u001b[0m\u001b[0;34m\u001b[0m\u001b[0m\n\u001b[0;32m---> 37\u001b[0;31m \u001b[0;32mfrom\u001b[0m \u001b[0;34m.\u001b[0m \u001b[0;32mimport\u001b[0m \u001b[0mcompat\u001b[0m\u001b[0;34m\u001b[0m\u001b[0;34m\u001b[0m\u001b[0m\n\u001b[0m\u001b[1;32m     38\u001b[0m \u001b[0;32mfrom\u001b[0m \u001b[0;34m.\u001b[0m \u001b[0;32mimport\u001b[0m \u001b[0mconfig\u001b[0m\u001b[0;34m\u001b[0m\u001b[0;34m\u001b[0m\u001b[0m\n\u001b[1;32m     39\u001b[0m \u001b[0;32mfrom\u001b[0m \u001b[0;34m.\u001b[0m \u001b[0;32mimport\u001b[0m \u001b[0mdata\u001b[0m\u001b[0;34m\u001b[0m\u001b[0;34m\u001b[0m\u001b[0m\n",
      "\u001b[0;32m/gpfslocalsup/pub/anaconda-py3/2021.05/envs/tensorflow-gpu-2.6.0/lib/python3.7/site-packages/tensorflow/_api/v2/compat/v2/compat/__init__.py\u001b[0m in \u001b[0;36m<module>\u001b[0;34m\u001b[0m\n\u001b[1;32m     38\u001b[0m \u001b[0;34m\u001b[0m\u001b[0m\n\u001b[1;32m     39\u001b[0m \u001b[0;32mfrom\u001b[0m \u001b[0;34m.\u001b[0m \u001b[0;32mimport\u001b[0m \u001b[0mv1\u001b[0m\u001b[0;34m\u001b[0m\u001b[0;34m\u001b[0m\u001b[0m\n\u001b[0;32m---> 40\u001b[0;31m \u001b[0;32mfrom\u001b[0m \u001b[0;34m.\u001b[0m \u001b[0;32mimport\u001b[0m \u001b[0mv2\u001b[0m\u001b[0;34m\u001b[0m\u001b[0;34m\u001b[0m\u001b[0m\n\u001b[0m\u001b[1;32m     41\u001b[0m \u001b[0;32mfrom\u001b[0m \u001b[0mtensorflow\u001b[0m\u001b[0;34m.\u001b[0m\u001b[0mpython\u001b[0m\u001b[0;34m.\u001b[0m\u001b[0mcompat\u001b[0m\u001b[0;34m.\u001b[0m\u001b[0mcompat\u001b[0m \u001b[0;32mimport\u001b[0m \u001b[0mforward_compatibility_horizon\u001b[0m\u001b[0;34m\u001b[0m\u001b[0;34m\u001b[0m\u001b[0m\n\u001b[1;32m     42\u001b[0m \u001b[0;32mfrom\u001b[0m \u001b[0mtensorflow\u001b[0m\u001b[0;34m.\u001b[0m\u001b[0mpython\u001b[0m\u001b[0;34m.\u001b[0m\u001b[0mcompat\u001b[0m\u001b[0;34m.\u001b[0m\u001b[0mcompat\u001b[0m \u001b[0;32mimport\u001b[0m \u001b[0mforward_compatible\u001b[0m\u001b[0;34m\u001b[0m\u001b[0;34m\u001b[0m\u001b[0m\n",
      "\u001b[0;32m/gpfslocalsup/pub/anaconda-py3/2021.05/envs/tensorflow-gpu-2.6.0/lib/python3.7/site-packages/tensorflow/_api/v2/compat/v2/compat/v2/__init__.py\u001b[0m in \u001b[0;36m<module>\u001b[0;34m\u001b[0m\n\u001b[1;32m     46\u001b[0m \u001b[0;32mfrom\u001b[0m \u001b[0mtensorflow\u001b[0m\u001b[0;34m.\u001b[0m\u001b[0m_api\u001b[0m\u001b[0;34m.\u001b[0m\u001b[0mv2\u001b[0m\u001b[0;34m.\u001b[0m\u001b[0mcompat\u001b[0m\u001b[0;34m.\u001b[0m\u001b[0mv2\u001b[0m \u001b[0;32mimport\u001b[0m \u001b[0mgraph_util\u001b[0m\u001b[0;34m\u001b[0m\u001b[0;34m\u001b[0m\u001b[0m\n\u001b[1;32m     47\u001b[0m \u001b[0;32mfrom\u001b[0m \u001b[0mtensorflow\u001b[0m\u001b[0;34m.\u001b[0m\u001b[0m_api\u001b[0m\u001b[0;34m.\u001b[0m\u001b[0mv2\u001b[0m\u001b[0;34m.\u001b[0m\u001b[0mcompat\u001b[0m\u001b[0;34m.\u001b[0m\u001b[0mv2\u001b[0m \u001b[0;32mimport\u001b[0m \u001b[0mimage\u001b[0m\u001b[0;34m\u001b[0m\u001b[0;34m\u001b[0m\u001b[0m\n\u001b[0;32m---> 48\u001b[0;31m \u001b[0;32mfrom\u001b[0m \u001b[0mtensorflow\u001b[0m\u001b[0;34m.\u001b[0m\u001b[0m_api\u001b[0m\u001b[0;34m.\u001b[0m\u001b[0mv2\u001b[0m\u001b[0;34m.\u001b[0m\u001b[0mcompat\u001b[0m\u001b[0;34m.\u001b[0m\u001b[0mv2\u001b[0m \u001b[0;32mimport\u001b[0m \u001b[0mio\u001b[0m\u001b[0;34m\u001b[0m\u001b[0;34m\u001b[0m\u001b[0m\n\u001b[0m\u001b[1;32m     49\u001b[0m \u001b[0;32mfrom\u001b[0m \u001b[0mtensorflow\u001b[0m\u001b[0;34m.\u001b[0m\u001b[0m_api\u001b[0m\u001b[0;34m.\u001b[0m\u001b[0mv2\u001b[0m\u001b[0;34m.\u001b[0m\u001b[0mcompat\u001b[0m\u001b[0;34m.\u001b[0m\u001b[0mv2\u001b[0m \u001b[0;32mimport\u001b[0m \u001b[0mlinalg\u001b[0m\u001b[0;34m\u001b[0m\u001b[0;34m\u001b[0m\u001b[0m\n\u001b[1;32m     50\u001b[0m \u001b[0;32mfrom\u001b[0m \u001b[0mtensorflow\u001b[0m\u001b[0;34m.\u001b[0m\u001b[0m_api\u001b[0m\u001b[0;34m.\u001b[0m\u001b[0mv2\u001b[0m\u001b[0;34m.\u001b[0m\u001b[0mcompat\u001b[0m\u001b[0;34m.\u001b[0m\u001b[0mv2\u001b[0m \u001b[0;32mimport\u001b[0m \u001b[0mlite\u001b[0m\u001b[0;34m\u001b[0m\u001b[0;34m\u001b[0m\u001b[0m\n",
      "\u001b[0;32m/gpfslocalsup/pub/anaconda-py3/2021.05/envs/tensorflow-gpu-2.6.0/lib/python3.7/importlib/_bootstrap.py\u001b[0m in \u001b[0;36m_find_and_load\u001b[0;34m(name, import_)\u001b[0m\n",
      "\u001b[0;32m/gpfslocalsup/pub/anaconda-py3/2021.05/envs/tensorflow-gpu-2.6.0/lib/python3.7/importlib/_bootstrap.py\u001b[0m in \u001b[0;36m_find_and_load_unlocked\u001b[0;34m(name, import_)\u001b[0m\n",
      "\u001b[0;32m/gpfslocalsup/pub/anaconda-py3/2021.05/envs/tensorflow-gpu-2.6.0/lib/python3.7/importlib/_bootstrap.py\u001b[0m in \u001b[0;36m_load_unlocked\u001b[0;34m(spec)\u001b[0m\n",
      "\u001b[0;32m/gpfslocalsup/pub/anaconda-py3/2021.05/envs/tensorflow-gpu-2.6.0/lib/python3.7/importlib/_bootstrap_external.py\u001b[0m in \u001b[0;36mexec_module\u001b[0;34m(self, module)\u001b[0m\n",
      "\u001b[0;32m/gpfslocalsup/pub/anaconda-py3/2021.05/envs/tensorflow-gpu-2.6.0/lib/python3.7/importlib/_bootstrap_external.py\u001b[0m in \u001b[0;36mget_code\u001b[0;34m(self, fullname)\u001b[0m\n",
      "\u001b[0;32m/gpfslocalsup/pub/anaconda-py3/2021.05/envs/tensorflow-gpu-2.6.0/lib/python3.7/importlib/_bootstrap_external.py\u001b[0m in \u001b[0;36mget_data\u001b[0;34m(self, path)\u001b[0m\n",
      "\u001b[0;31mKeyboardInterrupt\u001b[0m: "
     ]
    }
   ],
   "source": [
    "import openl3\n",
    "import numpy as np\n",
    "from tqdm import tqdm\n",
    "\n",
    "\n",
    "def compute_l3_embeddings(hf_path):\n",
    "    hf = h5py.File(hf_path, \"r+\")\n",
    "    model = openl3.models.load_audio_embedding_model(\n",
    "        input_repr=\"mel256\", content_type=\"env\", embedding_size=512, frontend=\"kapre\"\n",
    "    )\n",
    "    if \"train_hear.h5\" in hf_path:\n",
    "        hf_audio = h5py.File(hf_path.replace(\"_hear\", \"\"), \"r\")\n",
    "    else:\n",
    "        hf_audio = hf\n",
    "\n",
    "    for dname in [\"SONYC\", \"SINGA-PURA\"]:\n",
    "        print(dname)\n",
    "        audio_dset = hf_audio[dname][\"audio_32k\"]\n",
    "        dset_size = audio_dset.shape[0]\n",
    "        embed_dset = hf[dname].require_dataset(\n",
    "            \"open_l3_512\", shape=(dset_size, 96, 512), dtype=\"float32\"\n",
    "        )\n",
    "        for i in tqdm(range(dset_size)):\n",
    "            embed_dset[i], _ = openl3.get_audio_embedding(\n",
    "                audio_dset[i], 32000, model=model, batch_size=96, verbose=False\n",
    "            )"
   ]
  },
  {
   "cell_type": "code",
   "execution_count": null,
   "id": "e6f2c490",
   "metadata": {},
   "outputs": [
    {
     "name": "stdout",
     "output_type": "stream",
     "text": [
      "train_hear.h5\n"
     ]
    },
    {
     "name": "stderr",
     "output_type": "stream",
     "text": [
      "  0%|          | 0/12978 [00:00<?, ?it/s]"
     ]
    },
    {
     "name": "stdout",
     "output_type": "stream",
     "text": [
      "SONYC\n"
     ]
    },
    {
     "name": "stderr",
     "output_type": "stream",
     "text": [
      " 33%|███▎      | 4334/12978 [47:19<1:34:41,  1.52it/s]"
     ]
    }
   ],
   "source": [
    "for hf_name in [\"train_hear.h5\", \"val.h5\", \"test.h5\"]:\n",
    "    print(hf_name)\n",
    "    compute_l3_embeddings(os.path.join(root_path, hf_name))"
   ]
  },
  {
   "cell_type": "code",
   "execution_count": 76,
   "id": "498edf19",
   "metadata": {},
   "outputs": [
    {
     "ename": "NameError",
     "evalue": "name 'float32' is not defined",
     "output_type": "error",
     "traceback": [
      "\u001b[0;31m---------------------------------------------------------------------------\u001b[0m",
      "\u001b[0;31mNameError\u001b[0m                                 Traceback (most recent call last)",
      "\u001b[0;32m/tmp/ipykernel_3551766/3610643387.py\u001b[0m in \u001b[0;36m<module>\u001b[0;34m\u001b[0m\n\u001b[0;32m----> 1\u001b[0;31m \u001b[0mfloat32\u001b[0m\u001b[0;34m\u001b[0m\u001b[0;34m\u001b[0m\u001b[0m\n\u001b[0m",
      "\u001b[0;31mNameError\u001b[0m: name 'float32' is not defined"
     ]
    }
   ],
   "source": [
    "float32"
   ]
  },
  {
   "cell_type": "code",
   "execution_count": null,
   "id": "bb262e60",
   "metadata": {},
   "outputs": [],
   "source": []
  }
 ],
 "metadata": {
  "kernelspec": {
   "display_name": "Python 3 (ipykernel)",
   "language": "python",
   "name": "python3"
  },
  "language_info": {
   "codemirror_mode": {
    "name": "ipython",
    "version": 3
   },
   "file_extension": ".py",
   "mimetype": "text/x-python",
   "name": "python",
   "nbconvert_exporter": "python",
   "pygments_lexer": "ipython3",
   "version": "3.10.8"
  }
 },
 "nbformat": 4,
 "nbformat_minor": 5
}
